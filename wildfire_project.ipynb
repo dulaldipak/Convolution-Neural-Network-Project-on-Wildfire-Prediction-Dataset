{
  "cells": [
    {
      "cell_type": "markdown",
      "source": [
        "# This is wildfire Remote Sensing image data project. I used Convolution Neural Network to train the model to predict the wild fire from the large set of images.\n",
        "\n",
        "## Dipak P Duall\n",
        "### University of Alabama at Birmingham, Department of Mathematics"
      ],
      "metadata": {
        "id": "RmwClF_e4I81"
      }
    },
    {
      "cell_type": "markdown",
      "source": [],
      "metadata": {
        "id": "5-C6-Vkh4Gt_"
      }
    },
    {
      "cell_type": "code",
      "source": [
        "# import drive and connect with drive\n",
        "\n",
        "from google.colab import drive\n",
        "drive.mount('/content/drive/')"
      ],
      "metadata": {
        "id": "RO85srLy4AJX"
      },
      "execution_count": null,
      "outputs": []
    },
    {
      "cell_type": "markdown",
      "metadata": {
        "id": "h9WOq_i9RNMF"
      },
      "source": [
        "# New Section"
      ]
    },
    {
      "cell_type": "code",
      "execution_count": null,
      "metadata": {
        "id": "PTJGO1LplFnw"
      },
      "outputs": [],
      "source": [
        "#!pip install -q keras"
      ]
    },
    {
      "cell_type": "markdown",
      "metadata": {
        "id": "smFWKeVEutim"
      },
      "source": [
        "This project is related to prediction of wildfire using wildfire satellite images"
      ]
    },
    {
      "cell_type": "markdown",
      "metadata": {
        "id": "NcQ32qsgujYD"
      },
      "source": []
    },
    {
      "cell_type": "markdown",
      "metadata": {
        "id": "UvgcfU9ZxlEG"
      },
      "source": [
        "# 1. Importing Libraries"
      ]
    },
    {
      "cell_type": "code",
      "execution_count": null,
      "metadata": {
        "id": "a8WDgTVbxwsd"
      },
      "outputs": [],
      "source": [
        "import numpy as np\n",
        "import pandas as pd\n",
        "import tensorflow as tf\n",
        "from tensorflow.keras import optimizers, regularizers\n",
        "from tensorflow.keras.utils import load_img,img_to_array\n",
        "from tensorflow.keras.models import Sequential\n",
        "from tensorflow.keras.layers import Dense,Flatten,Dropout,BatchNormalization,Conv2D,MaxPooling2D\n",
        "from tensorflow.keras.preprocessing.image import ImageDataGenerator\n",
        "from tensorflow.keras.callbacks import ModelCheckpoint,EarlyStopping\n",
        "import matplotlib.pyplot as plt\n",
        "import seaborn as sns\n",
        "import cv2\n",
        "import os \n",
        "from tensorflow.keras.optimizers import legacy as optimizers\n"
      ]
    },
    {
      "cell_type": "code",
      "execution_count": null,
      "metadata": {
        "colab": {
          "base_uri": "https://localhost:8080/"
        },
        "id": "MfXnfDrU7Ew-",
        "outputId": "c4b0f8f2-a718-4b6a-cb62-df866013fc41"
      },
      "outputs": [
        {
          "name": "stdout",
          "output_type": "stream",
          "text": [
            "Wed May 10 16:13:26 2023       \n",
            "+-----------------------------------------------------------------------------+\n",
            "| NVIDIA-SMI 525.85.12    Driver Version: 525.85.12    CUDA Version: 12.0     |\n",
            "|-------------------------------+----------------------+----------------------+\n",
            "| GPU  Name        Persistence-M| Bus-Id        Disp.A | Volatile Uncorr. ECC |\n",
            "| Fan  Temp  Perf  Pwr:Usage/Cap|         Memory-Usage | GPU-Util  Compute M. |\n",
            "|                               |                      |               MIG M. |\n",
            "|===============================+======================+======================|\n",
            "|   0  Tesla T4            Off  | 00000000:00:04.0 Off |                    0 |\n",
            "| N/A   38C    P8     9W /  70W |      0MiB / 15360MiB |      0%      Default |\n",
            "|                               |                      |                  N/A |\n",
            "+-------------------------------+----------------------+----------------------+\n",
            "                                                                               \n",
            "+-----------------------------------------------------------------------------+\n",
            "| Processes:                                                                  |\n",
            "|  GPU   GI   CI        PID   Type   Process name                  GPU Memory |\n",
            "|        ID   ID                                                   Usage      |\n",
            "|=============================================================================|\n",
            "|  No running processes found                                                 |\n",
            "+-----------------------------------------------------------------------------+\n"
          ]
        }
      ],
      "source": [
        "gpu_info = !nvidia-smi\n",
        "gpu_info = '\\n'.join(gpu_info)\n",
        "if gpu_info.find('failed') >= 0:\n",
        "  print('Not connected to a GPU')\n",
        "else:\n",
        "  print(gpu_info)"
      ]
    },
    {
      "cell_type": "code",
      "execution_count": null,
      "metadata": {
        "colab": {
          "base_uri": "https://localhost:8080/"
        },
        "id": "2ams77nKORw3",
        "outputId": "e9c75607-1fe4-4390-872a-567d053f496f"
      },
      "outputs": [
        {
          "name": "stdout",
          "output_type": "stream",
          "text": [
            "GPU is set as the visible device.\n"
          ]
        }
      ],
      "source": [
        "# Get the list of physical devices (CPUs and GPUs) available to TensorFlow\n",
        "physical_devices = tf.config.list_physical_devices('GPU') \n",
        "\n",
        "# If there is at least one GPU available, set it as the visible device for TensorFlow\n",
        "if len(physical_devices) > 0:\n",
        "    tf.config.set_visible_devices(physical_devices[0], 'GPU')\n",
        "    print('GPU is set as the visible device.')\n",
        "else:\n",
        "    print('No GPUs are available.')"
      ]
    },
    {
      "cell_type": "markdown",
      "metadata": {
        "id": "d2p0Df43leq9"
      },
      "source": [
        "# 2. Data Extraction and Rescaling"
      ]
    },
    {
      "cell_type": "code",
      "execution_count": null,
      "metadata": {
        "id": "zzVv97GioVWx"
      },
      "outputs": [],
      "source": [
        "\n",
        "#train_path = '/content/drive/MyDrive/wild_fire_data/train'\n",
        "#test_path = '/content/drive/MyDrive/wild_fire_data/test'\n",
        "#val_path = '/content/drive/MyDrive/wild_fire_data/valid'"
      ]
    },
    {
      "cell_type": "code",
      "execution_count": null,
      "metadata": {
        "id": "4KB0XN2tyXrV"
      },
      "outputs": [],
      "source": [
        "import zipfile"
      ]
    },
    {
      "cell_type": "code",
      "execution_count": null,
      "metadata": {
        "id": "BayxUtuIxpql"
      },
      "outputs": [],
      "source": [
        "zip_file = '/content/drive/MyDrive/archive_wildfire.zip'\n",
        "with zipfile.ZipFile(zip_file,'r') as zip_ref:\n",
        "  zip_ref.extractall('/content')\n",
        "train_path = '/content/train'\n",
        "test_path = '/content/test'\n",
        "val_path = '/content/valid'"
      ]
    },
    {
      "cell_type": "code",
      "execution_count": null,
      "metadata": {
        "id": "bWUijZpcxpzr"
      },
      "outputs": [],
      "source": []
    },
    {
      "cell_type": "code",
      "execution_count": null,
      "metadata": {
        "colab": {
          "base_uri": "https://localhost:8080/"
        },
        "id": "GjKIDbOXt3aq",
        "outputId": "48cf5ec6-e42e-4827-9f1b-1433008492c0"
      },
      "outputs": [
        {
          "name": "stdout",
          "output_type": "stream",
          "text": [
            "Found 30250 images belonging to 2 classes.\n",
            "Found 6300 images belonging to 2 classes.\n",
            "Found 6300 images belonging to 2 classes.\n"
          ]
        }
      ],
      "source": [
        "image_shape = (300,300,3)\n",
        "N_CLASSES = 2\n",
        "BATCH_SIZE = 256\n",
        "\n",
        "# loading training data and rescaling it using ImageDataGenerator\n",
        "train_datagen = ImageDataGenerator(dtype='float32', rescale= 1./255., rotation_range= 40,width_shift_range=0.2,zoom_range=0.2,vertical_flip= True,horizontal_flip= True,shear_range= 0.07)\n",
        "train_generator = train_datagen.flow_from_directory(train_path,\n",
        "                                                    batch_size = BATCH_SIZE,\n",
        "                                                    target_size = (300,300),\n",
        "                                                    class_mode = 'categorical',\n",
        "                                                    seed = 42,\n",
        "                                                    shuffle = True,\n",
        "                                                    subset = 'training'\n",
        "                                          \n",
        "                                                    )\n",
        "train_datagen.fit(train_generator[0][0])\n",
        "# loading validation data and rescaling it using ImageDataGenerator\n",
        "val_datagen = ImageDataGenerator(dtype='float32', rescale= 1./255., rotation_range= 40,width_shift_range=0.2,zoom_range=0.2,vertical_flip= True,horizontal_flip= True,shear_range= 0.07)\n",
        "val_generator = val_datagen.flow_from_directory(val_path,\n",
        "                                                batch_size = BATCH_SIZE,\n",
        "                                                target_size = (300,300),\n",
        "                                                class_mode = 'categorical',\n",
        "                                                seed = 42,\n",
        "                                                shuffle = True\n",
        "                                                )\n",
        "val_datagen.fit(val_generator[0][0])\n",
        "\n",
        "# loading test data and rescaling it using ImageDataGenerator\n",
        "test_datagen = ImageDataGenerator(dtype='float32', rescale = 1.0/255.0,rotation_range = 40)\n",
        "test_generator = test_datagen.flow_from_directory(test_path,\n",
        "                                                  batch_size = BATCH_SIZE,\n",
        "                                                  target_size = (300,300),\n",
        "                                                  class_mode = 'categorical',\n",
        "                                                  seed = 42,\n",
        "                                                  shuffle = False,\n",
        "                                                  )"
      ]
    },
    {
      "cell_type": "markdown",
      "metadata": {
        "id": "k2v5dWTz6brz"
      },
      "source": [
        "# Building Model"
      ]
    },
    {
      "cell_type": "code",
      "execution_count": null,
      "metadata": {
        "colab": {
          "base_uri": "https://localhost:8080/"
        },
        "id": "4PpehkF76eh-",
        "outputId": "549d8f0b-9c0e-414f-c7f0-0e6a60952362"
      },
      "outputs": [
        {
          "name": "stdout",
          "output_type": "stream",
          "text": [
            "Model: \"sequential\"\n",
            "_________________________________________________________________\n",
            " Layer (type)                Output Shape              Param #   \n",
            "=================================================================\n",
            " conv2d (Conv2D)             (None, 299, 299, 8)       104       \n",
            "                                                                 \n",
            " max_pooling2d (MaxPooling2D  (None, 149, 149, 8)      0         \n",
            " )                                                               \n",
            "                                                                 \n",
            " conv2d_1 (Conv2D)           (None, 148, 148, 16)      528       \n",
            "                                                                 \n",
            " max_pooling2d_1 (MaxPooling  (None, 74, 74, 16)       0         \n",
            " 2D)                                                             \n",
            "                                                                 \n",
            " conv2d_2 (Conv2D)           (None, 73, 73, 32)        2080      \n",
            "                                                                 \n",
            " max_pooling2d_2 (MaxPooling  (None, 36, 36, 32)       0         \n",
            " 2D)                                                             \n",
            "                                                                 \n",
            " conv2d_3 (Conv2D)           (None, 35, 35, 64)        8256      \n",
            "                                                                 \n",
            " max_pooling2d_3 (MaxPooling  (None, 17, 17, 64)       0         \n",
            " 2D)                                                             \n",
            "                                                                 \n",
            " dropout (Dropout)           (None, 17, 17, 64)        0         \n",
            "                                                                 \n",
            " flatten (Flatten)           (None, 18496)             0         \n",
            "                                                                 \n",
            " dense (Dense)               (None, 300)               5549100   \n",
            "                                                                 \n",
            " dropout_1 (Dropout)         (None, 300)               0         \n",
            "                                                                 \n",
            " dense_1 (Dense)             (None, 2)                 602       \n",
            "                                                                 \n",
            "=================================================================\n",
            "Total params: 5,560,670\n",
            "Trainable params: 5,560,670\n",
            "Non-trainable params: 0\n",
            "_________________________________________________________________\n"
          ]
        }
      ],
      "source": [
        "# defining the coefficient that our regularizer\n",
        "weight_decay = 1e-3\n",
        "\n",
        "# building a sequential CNN model and adding layers to it\n",
        "# dropout and the regularizer are used in general to prevent overfitting\n",
        "first_model = Sequential([\n",
        "    Conv2D(filters = 8 , kernel_size = 2, activation = 'relu', \n",
        "    input_shape = image_shape), MaxPooling2D(pool_size = 2),\n",
        "    \n",
        "    Conv2D(filters = 16 , kernel_size = 2, activation = 'relu'),\n",
        "    MaxPooling2D(pool_size = 2),\n",
        "    Conv2D(filters = 32 , kernel_size = 2, activation = 'relu'),\n",
        "    MaxPooling2D(pool_size = 2),\n",
        "   Conv2D(filters = 64 , kernel_size = 2, activation = 'relu',\n",
        "          kernel_regularizer = regularizers.l2(weight_decay)),\n",
        "    MaxPooling2D(pool_size = 2), \n",
        "    Dropout(0.2),\n",
        "    Flatten(),\n",
        "    Dense(300,activation='relu'),\n",
        "    Dropout(0.4),\n",
        "    Dense(2,activation='softmax')\n",
        "])\n",
        "# showing the summary of our model (layers and number of parameters)\n",
        "first_model.summary()"
      ]
    },
    {
      "cell_type": "markdown",
      "metadata": {
        "id": "i2L6RDEH6t5T"
      },
      "source": [
        "# Training Model"
      ]
    },
    {
      "cell_type": "code",
      "execution_count": 11,
      "metadata": {
        "colab": {
          "base_uri": "https://localhost:8080/"
        },
        "id": "owaGkGeH6w_d",
        "outputId": "6fc26b73-fd21-4aab-8095-88847e8b9cbc"
      },
      "outputs": [
        {
          "output_type": "stream",
          "name": "stdout",
          "text": [
            "Epoch 1/40\n",
            "119/119 [==============================] - ETA: 0s - loss: 0.6354 - auc: 0.8075 - acc: 0.6807\n",
            "Epoch 1: val_loss improved from inf to 0.51027, saving model to first_model.hdf5\n",
            "119/119 [==============================] - 747s 6s/step - loss: 0.6354 - auc: 0.8075 - acc: 0.6807 - val_loss: 0.5103 - val_auc: 0.9539 - val_acc: 0.8767\n",
            "Epoch 2/40\n",
            "119/119 [==============================] - ETA: 0s - loss: 0.4204 - auc: 0.9495 - acc: 0.8820\n",
            "Epoch 2: val_loss improved from 0.51027 to 0.33330, saving model to first_model.hdf5\n",
            "119/119 [==============================] - 720s 6s/step - loss: 0.4204 - auc: 0.9495 - acc: 0.8820 - val_loss: 0.3333 - val_auc: 0.9664 - val_acc: 0.9025\n",
            "Epoch 3/40\n",
            "119/119 [==============================] - ETA: 0s - loss: 0.3246 - auc: 0.9574 - acc: 0.8920\n",
            "Epoch 3: val_loss improved from 0.33330 to 0.29158, saving model to first_model.hdf5\n",
            "119/119 [==============================] - 726s 6s/step - loss: 0.3246 - auc: 0.9574 - acc: 0.8920 - val_loss: 0.2916 - val_auc: 0.9666 - val_acc: 0.9011\n",
            "Epoch 4/40\n",
            "119/119 [==============================] - ETA: 0s - loss: 0.3011 - auc: 0.9604 - acc: 0.8952\n",
            "Epoch 4: val_loss improved from 0.29158 to 0.27654, saving model to first_model.hdf5\n",
            "119/119 [==============================] - 709s 6s/step - loss: 0.3011 - auc: 0.9604 - acc: 0.8952 - val_loss: 0.2765 - val_auc: 0.9683 - val_acc: 0.9062\n",
            "Epoch 5/40\n",
            "119/119 [==============================] - ETA: 0s - loss: 0.2907 - auc: 0.9624 - acc: 0.8997\n",
            "Epoch 5: val_loss improved from 0.27654 to 0.26737, saving model to first_model.hdf5\n",
            "119/119 [==============================] - 703s 6s/step - loss: 0.2907 - auc: 0.9624 - acc: 0.8997 - val_loss: 0.2674 - val_auc: 0.9701 - val_acc: 0.9105\n",
            "Epoch 6/40\n",
            "119/119 [==============================] - ETA: 0s - loss: 0.2862 - auc: 0.9632 - acc: 0.9009\n",
            "Epoch 6: val_loss improved from 0.26737 to 0.26232, saving model to first_model.hdf5\n",
            "119/119 [==============================] - 708s 6s/step - loss: 0.2862 - auc: 0.9632 - acc: 0.9009 - val_loss: 0.2623 - val_auc: 0.9707 - val_acc: 0.9124\n",
            "Epoch 7/40\n",
            "119/119 [==============================] - ETA: 0s - loss: 0.2815 - auc: 0.9643 - acc: 0.9038\n",
            "Epoch 7: val_loss improved from 0.26232 to 0.25690, saving model to first_model.hdf5\n",
            "119/119 [==============================] - 734s 6s/step - loss: 0.2815 - auc: 0.9643 - acc: 0.9038 - val_loss: 0.2569 - val_auc: 0.9720 - val_acc: 0.9149\n",
            "Epoch 8/40\n",
            "119/119 [==============================] - ETA: 0s - loss: 0.2783 - auc: 0.9650 - acc: 0.9055\n",
            "Epoch 8: val_loss improved from 0.25690 to 0.25532, saving model to first_model.hdf5\n",
            "119/119 [==============================] - 707s 6s/step - loss: 0.2783 - auc: 0.9650 - acc: 0.9055 - val_loss: 0.2553 - val_auc: 0.9719 - val_acc: 0.9159\n",
            "Epoch 9/40\n",
            "119/119 [==============================] - ETA: 0s - loss: 0.2755 - auc: 0.9658 - acc: 0.9067\n",
            "Epoch 9: val_loss improved from 0.25532 to 0.25329, saving model to first_model.hdf5\n",
            "119/119 [==============================] - 704s 6s/step - loss: 0.2755 - auc: 0.9658 - acc: 0.9067 - val_loss: 0.2533 - val_auc: 0.9723 - val_acc: 0.9165\n",
            "Epoch 10/40\n",
            "119/119 [==============================] - ETA: 0s - loss: 0.2729 - auc: 0.9663 - acc: 0.9086\n",
            "Epoch 10: val_loss improved from 0.25329 to 0.24996, saving model to first_model.hdf5\n",
            "119/119 [==============================] - 731s 6s/step - loss: 0.2729 - auc: 0.9663 - acc: 0.9086 - val_loss: 0.2500 - val_auc: 0.9732 - val_acc: 0.9170\n",
            "Epoch 11/40\n",
            "119/119 [==============================] - ETA: 0s - loss: 0.2706 - auc: 0.9668 - acc: 0.9084\n",
            "Epoch 11: val_loss did not improve from 0.24996\n",
            "119/119 [==============================] - 705s 6s/step - loss: 0.2706 - auc: 0.9668 - acc: 0.9084 - val_loss: 0.2575 - val_auc: 0.9708 - val_acc: 0.9141\n",
            "Epoch 12/40\n",
            "119/119 [==============================] - ETA: 0s - loss: 0.2685 - auc: 0.9673 - acc: 0.9088\n",
            "Epoch 12: val_loss improved from 0.24996 to 0.24492, saving model to first_model.hdf5\n",
            "119/119 [==============================] - 703s 6s/step - loss: 0.2685 - auc: 0.9673 - acc: 0.9088 - val_loss: 0.2449 - val_auc: 0.9740 - val_acc: 0.9197\n",
            "Epoch 13/40\n",
            "119/119 [==============================] - ETA: 0s - loss: 0.2659 - auc: 0.9678 - acc: 0.9106\n",
            "Epoch 13: val_loss improved from 0.24492 to 0.24371, saving model to first_model.hdf5\n",
            "119/119 [==============================] - 725s 6s/step - loss: 0.2659 - auc: 0.9678 - acc: 0.9106 - val_loss: 0.2437 - val_auc: 0.9743 - val_acc: 0.9202\n",
            "Epoch 14/40\n",
            "119/119 [==============================] - ETA: 0s - loss: 0.2629 - auc: 0.9687 - acc: 0.9129\n",
            "Epoch 14: val_loss improved from 0.24371 to 0.24171, saving model to first_model.hdf5\n",
            "119/119 [==============================] - 727s 6s/step - loss: 0.2629 - auc: 0.9687 - acc: 0.9129 - val_loss: 0.2417 - val_auc: 0.9749 - val_acc: 0.9217\n",
            "Epoch 15/40\n",
            "119/119 [==============================] - ETA: 0s - loss: 0.2609 - auc: 0.9691 - acc: 0.9130\n",
            "Epoch 15: val_loss improved from 0.24171 to 0.23977, saving model to first_model.hdf5\n",
            "119/119 [==============================] - 723s 6s/step - loss: 0.2609 - auc: 0.9691 - acc: 0.9130 - val_loss: 0.2398 - val_auc: 0.9751 - val_acc: 0.9216\n",
            "Epoch 16/40\n",
            "119/119 [==============================] - ETA: 0s - loss: 0.2587 - auc: 0.9697 - acc: 0.9136\n",
            "Epoch 16: val_loss improved from 0.23977 to 0.23636, saving model to first_model.hdf5\n",
            "119/119 [==============================] - 736s 6s/step - loss: 0.2587 - auc: 0.9697 - acc: 0.9136 - val_loss: 0.2364 - val_auc: 0.9762 - val_acc: 0.9237\n",
            "Epoch 17/40\n",
            "119/119 [==============================] - ETA: 0s - loss: 0.2570 - auc: 0.9700 - acc: 0.9148\n",
            "Epoch 17: val_loss did not improve from 0.23636\n",
            "119/119 [==============================] - 707s 6s/step - loss: 0.2570 - auc: 0.9700 - acc: 0.9148 - val_loss: 0.2390 - val_auc: 0.9754 - val_acc: 0.9219\n",
            "Epoch 18/40\n",
            "119/119 [==============================] - ETA: 0s - loss: 0.2553 - auc: 0.9704 - acc: 0.9155\n",
            "Epoch 18: val_loss improved from 0.23636 to 0.23628, saving model to first_model.hdf5\n",
            "119/119 [==============================] - 704s 6s/step - loss: 0.2553 - auc: 0.9704 - acc: 0.9155 - val_loss: 0.2363 - val_auc: 0.9759 - val_acc: 0.9217\n",
            "Epoch 19/40\n",
            "119/119 [==============================] - ETA: 0s - loss: 0.2523 - auc: 0.9712 - acc: 0.9166\n",
            "Epoch 19: val_loss did not improve from 0.23628\n",
            "119/119 [==============================] - 724s 6s/step - loss: 0.2523 - auc: 0.9712 - acc: 0.9166 - val_loss: 0.2387 - val_auc: 0.9750 - val_acc: 0.9214\n",
            "Epoch 20/40\n",
            "119/119 [==============================] - ETA: 0s - loss: 0.2496 - auc: 0.9716 - acc: 0.9181\n",
            "Epoch 20: val_loss improved from 0.23628 to 0.23361, saving model to first_model.hdf5\n",
            "119/119 [==============================] - 735s 6s/step - loss: 0.2496 - auc: 0.9716 - acc: 0.9181 - val_loss: 0.2336 - val_auc: 0.9762 - val_acc: 0.9238\n",
            "Epoch 21/40\n",
            "119/119 [==============================] - ETA: 0s - loss: 0.2486 - auc: 0.9719 - acc: 0.9175\n",
            "Epoch 21: val_loss improved from 0.23361 to 0.22976, saving model to first_model.hdf5\n",
            "119/119 [==============================] - 732s 6s/step - loss: 0.2486 - auc: 0.9719 - acc: 0.9175 - val_loss: 0.2298 - val_auc: 0.9773 - val_acc: 0.9251\n",
            "Epoch 22/40\n",
            "119/119 [==============================] - ETA: 0s - loss: 0.2456 - auc: 0.9727 - acc: 0.9182\n",
            "Epoch 22: val_loss improved from 0.22976 to 0.22732, saving model to first_model.hdf5\n",
            "119/119 [==============================] - 724s 6s/step - loss: 0.2456 - auc: 0.9727 - acc: 0.9182 - val_loss: 0.2273 - val_auc: 0.9776 - val_acc: 0.9257\n",
            "Epoch 23/40\n",
            "119/119 [==============================] - ETA: 0s - loss: 0.2460 - auc: 0.9725 - acc: 0.9170\n",
            "Epoch 23: val_loss improved from 0.22732 to 0.22406, saving model to first_model.hdf5\n",
            "119/119 [==============================] - 731s 6s/step - loss: 0.2460 - auc: 0.9725 - acc: 0.9170 - val_loss: 0.2241 - val_auc: 0.9783 - val_acc: 0.9268\n",
            "Epoch 24/40\n",
            "119/119 [==============================] - ETA: 0s - loss: 0.2433 - auc: 0.9730 - acc: 0.9188\n",
            "Epoch 24: val_loss improved from 0.22406 to 0.22379, saving model to first_model.hdf5\n",
            "119/119 [==============================] - 704s 6s/step - loss: 0.2433 - auc: 0.9730 - acc: 0.9188 - val_loss: 0.2238 - val_auc: 0.9782 - val_acc: 0.9273\n",
            "Epoch 25/40\n",
            "119/119 [==============================] - ETA: 0s - loss: 0.2429 - auc: 0.9731 - acc: 0.9186\n",
            "Epoch 25: val_loss did not improve from 0.22379\n",
            "119/119 [==============================] - 705s 6s/step - loss: 0.2429 - auc: 0.9731 - acc: 0.9186 - val_loss: 0.2268 - val_auc: 0.9775 - val_acc: 0.9281\n",
            "Epoch 26/40\n",
            "119/119 [==============================] - ETA: 0s - loss: 0.2413 - auc: 0.9735 - acc: 0.9197\n",
            "Epoch 26: val_loss did not improve from 0.22379\n",
            "119/119 [==============================] - 695s 6s/step - loss: 0.2413 - auc: 0.9735 - acc: 0.9197 - val_loss: 0.2301 - val_auc: 0.9768 - val_acc: 0.9254\n",
            "Epoch 27/40\n",
            "119/119 [==============================] - ETA: 0s - loss: 0.2400 - auc: 0.9737 - acc: 0.9198\n",
            "Epoch 27: val_loss improved from 0.22379 to 0.21631, saving model to first_model.hdf5\n",
            "119/119 [==============================] - 697s 6s/step - loss: 0.2400 - auc: 0.9737 - acc: 0.9198 - val_loss: 0.2163 - val_auc: 0.9797 - val_acc: 0.9319\n",
            "Epoch 28/40\n",
            "119/119 [==============================] - ETA: 0s - loss: 0.2392 - auc: 0.9740 - acc: 0.9196\n",
            "Epoch 28: val_loss did not improve from 0.21631\n",
            "119/119 [==============================] - 695s 6s/step - loss: 0.2392 - auc: 0.9740 - acc: 0.9196 - val_loss: 0.2240 - val_auc: 0.9781 - val_acc: 0.9278\n",
            "Epoch 29/40\n",
            "119/119 [==============================] - ETA: 0s - loss: 0.2381 - auc: 0.9742 - acc: 0.9206\n",
            "Epoch 29: val_loss did not improve from 0.21631\n",
            "119/119 [==============================] - 688s 6s/step - loss: 0.2381 - auc: 0.9742 - acc: 0.9206 - val_loss: 0.2183 - val_auc: 0.9795 - val_acc: 0.9263\n",
            "Epoch 30/40\n",
            "119/119 [==============================] - ETA: 0s - loss: 0.2353 - auc: 0.9749 - acc: 0.9212\n",
            "Epoch 30: val_loss did not improve from 0.21631\n",
            "119/119 [==============================] - 700s 6s/step - loss: 0.2353 - auc: 0.9749 - acc: 0.9212 - val_loss: 0.2227 - val_auc: 0.9781 - val_acc: 0.9278\n",
            "Epoch 31/40\n",
            "119/119 [==============================] - ETA: 0s - loss: 0.2337 - auc: 0.9752 - acc: 0.9232\n",
            "Epoch 31: val_loss improved from 0.21631 to 0.21227, saving model to first_model.hdf5\n",
            "119/119 [==============================] - 702s 6s/step - loss: 0.2337 - auc: 0.9752 - acc: 0.9232 - val_loss: 0.2123 - val_auc: 0.9807 - val_acc: 0.9311\n",
            "Epoch 32/40\n",
            "119/119 [==============================] - ETA: 0s - loss: 0.2315 - auc: 0.9757 - acc: 0.9228\n",
            "Epoch 32: val_loss did not improve from 0.21227\n",
            "119/119 [==============================] - 710s 6s/step - loss: 0.2315 - auc: 0.9757 - acc: 0.9228 - val_loss: 0.2149 - val_auc: 0.9800 - val_acc: 0.9322\n",
            "Epoch 33/40\n",
            "119/119 [==============================] - ETA: 0s - loss: 0.2293 - auc: 0.9763 - acc: 0.9234\n",
            "Epoch 33: val_loss did not improve from 0.21227\n",
            "119/119 [==============================] - 705s 6s/step - loss: 0.2293 - auc: 0.9763 - acc: 0.9234 - val_loss: 0.2128 - val_auc: 0.9804 - val_acc: 0.9311\n",
            "Epoch 34/40\n",
            "119/119 [==============================] - ETA: 0s - loss: 0.2287 - auc: 0.9763 - acc: 0.9243\n",
            "Epoch 34: val_loss improved from 0.21227 to 0.21018, saving model to first_model.hdf5\n",
            "119/119 [==============================] - 704s 6s/step - loss: 0.2287 - auc: 0.9763 - acc: 0.9243 - val_loss: 0.2102 - val_auc: 0.9809 - val_acc: 0.9317\n",
            "Epoch 35/40\n",
            "119/119 [==============================] - ETA: 0s - loss: 0.2278 - auc: 0.9765 - acc: 0.9236\n",
            "Epoch 35: val_loss improved from 0.21018 to 0.20788, saving model to first_model.hdf5\n",
            "119/119 [==============================] - 699s 6s/step - loss: 0.2278 - auc: 0.9765 - acc: 0.9236 - val_loss: 0.2079 - val_auc: 0.9814 - val_acc: 0.9330\n",
            "Epoch 36/40\n",
            "119/119 [==============================] - ETA: 0s - loss: 0.2259 - auc: 0.9770 - acc: 0.9238\n",
            "Epoch 36: val_loss improved from 0.20788 to 0.20666, saving model to first_model.hdf5\n",
            "119/119 [==============================] - 706s 6s/step - loss: 0.2259 - auc: 0.9770 - acc: 0.9238 - val_loss: 0.2067 - val_auc: 0.9817 - val_acc: 0.9341\n",
            "Epoch 37/40\n",
            "119/119 [==============================] - ETA: 0s - loss: 0.2250 - auc: 0.9771 - acc: 0.9254\n",
            "Epoch 37: val_loss improved from 0.20666 to 0.20377, saving model to first_model.hdf5\n",
            "119/119 [==============================] - 703s 6s/step - loss: 0.2250 - auc: 0.9771 - acc: 0.9254 - val_loss: 0.2038 - val_auc: 0.9823 - val_acc: 0.9343\n",
            "Epoch 38/40\n",
            "119/119 [==============================] - ETA: 0s - loss: 0.2234 - auc: 0.9773 - acc: 0.9257\n",
            "Epoch 38: val_loss did not improve from 0.20377\n",
            "119/119 [==============================] - 698s 6s/step - loss: 0.2234 - auc: 0.9773 - acc: 0.9257 - val_loss: 0.2074 - val_auc: 0.9814 - val_acc: 0.9333\n",
            "Epoch 39/40\n",
            "119/119 [==============================] - ETA: 0s - loss: 0.2230 - auc: 0.9775 - acc: 0.9259\n",
            "Epoch 39: val_loss did not improve from 0.20377\n",
            "119/119 [==============================] - 699s 6s/step - loss: 0.2230 - auc: 0.9775 - acc: 0.9259 - val_loss: 0.2104 - val_auc: 0.9808 - val_acc: 0.9316\n",
            "Epoch 40/40\n",
            "119/119 [==============================] - ETA: 0s - loss: 0.2225 - auc: 0.9776 - acc: 0.9250\n",
            "Epoch 40: val_loss did not improve from 0.20377\n",
            "119/119 [==============================] - 698s 6s/step - loss: 0.2225 - auc: 0.9776 - acc: 0.9250 - val_loss: 0.2096 - val_auc: 0.9811 - val_acc: 0.9306\n"
          ]
        }
      ],
      "source": [
        " # don't stop everything if an image didn't load correctly\n",
        "from PIL import ImageFile\n",
        "ImageFile.LOAD_TRUNCATED_IMAGES = True\n",
        "\n",
        "# checkpointer to save the model only if it improved\n",
        "checkpointer = ModelCheckpoint('first_model.hdf5',verbose=1, save_best_only= True)\n",
        "# early stopping to stop the training if our validation loss didn't decrease for (10) consecutive epochs\n",
        "early_stopping = EarlyStopping(monitor= 'val_loss', patience= 8)\n",
        "# Adam, best optimiser for deep learning models to help with the training\n",
        "optimizer = optimizers.Adam(learning_rate= 0.00001, decay= 1e-5)\n",
        "# setting our loss function and which metric to evaluate\n",
        "first_model.compile(loss= 'categorical_crossentropy', optimizer= optimizer,\n",
        "                    metrics=['AUC','acc'])\n",
        "\n",
        "# TRAIN\n",
        "history = first_model.fit(train_generator,\n",
        "                    epochs = 40,\n",
        "                    verbose = 1,\n",
        "                    validation_data = val_generator,\n",
        "                    callbacks = [checkpointer, early_stopping])"
      ]
    },
    {
      "cell_type": "code",
      "execution_count": 12,
      "metadata": {
        "id": "Agtt4FRQ6zuG",
        "colab": {
          "base_uri": "https://localhost:8080/",
          "height": 449
        },
        "outputId": "328acc73-1436-42d1-b52c-d50ce1db0cdb"
      },
      "outputs": [
        {
          "output_type": "display_data",
          "data": {
            "text/plain": [
              "<Figure size 640x480 with 1 Axes>"
            ],
            "image/png": "[encoded data removed]"
          },
          "metadata": {}
        }
      ],
      "source": [
        "# add history of accuracy and validation accuracy to the plot\n",
        "plt.plot(history.history['acc'], label = 'train',)\n",
        "plt.plot(history.history['val_acc'], label = 'valid')\n",
        "\n",
        "# adding legend and labels\n",
        "plt.legend(loc = 'lower right')\n",
        "plt.xlabel('epochs')\n",
        "plt.ylabel('accuracy')\n",
        "\n",
        "# show the plot\n",
        "plt.show()"
      ]
    },
    {
      "cell_type": "code",
      "execution_count": 12,
      "metadata": {
        "id": "Mj2dPo7p-uYP"
      },
      "outputs": [],
      "source": []
    }
  ],
  "metadata": {
    "accelerator": "GPU",
    "colab": {
      "machine_shape": "hm",
      "toc_visible": true,
      "provenance": []
    },
    "gpuClass": "standard",
    "kernelspec": {
      "display_name": "Python 3",
      "name": "python3"
    },
    "language_info": {
      "name": "python"
    }
  },
  "nbformat": 4,
  "nbformat_minor": 0
}